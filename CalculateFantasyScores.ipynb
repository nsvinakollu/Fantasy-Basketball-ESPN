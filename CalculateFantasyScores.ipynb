{
 "cells": [
  {
   "cell_type": "code",
   "execution_count": 5,
   "metadata": {},
   "outputs": [],
   "source": [
    "import pandas as pd\n",
    "import qgrid as qg\n",
    "import unidecode\n"
   ]
  },
  {
   "cell_type": "code",
   "execution_count": 3,
   "metadata": {},
   "outputs": [],
   "source": [
    "# Read the Weeks File\n",
    "bballRef = pd.read_csv(\n",
    "    r\"C:\\Users\\asus\\OneDrive\\Documents\\Fantasy BBall\\Fantasy-Basketball-ESPN\\BBallRefStats\\Player_Stats_Week_3.csv\"\n",
    ")"
   ]
  },
  {
   "cell_type": "code",
   "execution_count": 6,
   "metadata": {},
   "outputs": [
    {
     "ename": "AttributeError",
     "evalue": "'float' object has no attribute 'encode'",
     "output_type": "error",
     "traceback": [
      "\u001b[1;31m---------------------------------------------------------------------------\u001b[0m",
      "\u001b[1;31mAttributeError\u001b[0m                            Traceback (most recent call last)",
      "\u001b[1;32m<ipython-input-6-00b2ea443af5>\u001b[0m in \u001b[0;36m<module>\u001b[1;34m\u001b[0m\n\u001b[0;32m     39\u001b[0m \u001b[0mfantasyScoreAvg\u001b[0m \u001b[1;33m=\u001b[0m \u001b[0mfantasyScoreAvg\u001b[0m\u001b[1;33m.\u001b[0m\u001b[0mjoin\u001b[0m\u001b[1;33m(\u001b[0m\u001b[0mfantasyScore\u001b[0m\u001b[1;33m)\u001b[0m\u001b[1;33m\u001b[0m\u001b[1;33m\u001b[0m\u001b[0m\n\u001b[0;32m     40\u001b[0m fantasyScoreAvg[\"Player\"] = fantasyScoreAvg[\"Player\"].apply(\n\u001b[1;32m---> 41\u001b[1;33m     \u001b[1;32mlambda\u001b[0m \u001b[0mx\u001b[0m\u001b[1;33m:\u001b[0m \u001b[0munidecode\u001b[0m\u001b[1;33m.\u001b[0m\u001b[0munidecode\u001b[0m\u001b[1;33m(\u001b[0m\u001b[0mx\u001b[0m\u001b[1;33m)\u001b[0m\u001b[1;33m\u001b[0m\u001b[1;33m\u001b[0m\u001b[0m\n\u001b[0m\u001b[0;32m     42\u001b[0m )\n\u001b[0;32m     43\u001b[0m \u001b[0mqg_widget\u001b[0m \u001b[1;33m=\u001b[0m \u001b[0mqg\u001b[0m\u001b[1;33m.\u001b[0m\u001b[0mshow_grid\u001b[0m\u001b[1;33m(\u001b[0m\u001b[0mfantasyScoreAvg\u001b[0m\u001b[1;33m,\u001b[0m \u001b[0mshow_toolbar\u001b[0m\u001b[1;33m=\u001b[0m\u001b[1;32mTrue\u001b[0m\u001b[1;33m)\u001b[0m\u001b[1;33m\u001b[0m\u001b[1;33m\u001b[0m\u001b[0m\n",
      "\u001b[1;32mc:\\users\\asus\\appdata\\local\\programs\\python\\python37-32\\lib\\site-packages\\pandas\\core\\series.py\u001b[0m in \u001b[0;36mapply\u001b[1;34m(self, func, convert_dtype, args, **kwds)\u001b[0m\n\u001b[0;32m   3846\u001b[0m             \u001b[1;32melse\u001b[0m\u001b[1;33m:\u001b[0m\u001b[1;33m\u001b[0m\u001b[1;33m\u001b[0m\u001b[0m\n\u001b[0;32m   3847\u001b[0m                 \u001b[0mvalues\u001b[0m \u001b[1;33m=\u001b[0m \u001b[0mself\u001b[0m\u001b[1;33m.\u001b[0m\u001b[0mastype\u001b[0m\u001b[1;33m(\u001b[0m\u001b[0mobject\u001b[0m\u001b[1;33m)\u001b[0m\u001b[1;33m.\u001b[0m\u001b[0mvalues\u001b[0m\u001b[1;33m\u001b[0m\u001b[1;33m\u001b[0m\u001b[0m\n\u001b[1;32m-> 3848\u001b[1;33m                 \u001b[0mmapped\u001b[0m \u001b[1;33m=\u001b[0m \u001b[0mlib\u001b[0m\u001b[1;33m.\u001b[0m\u001b[0mmap_infer\u001b[0m\u001b[1;33m(\u001b[0m\u001b[0mvalues\u001b[0m\u001b[1;33m,\u001b[0m \u001b[0mf\u001b[0m\u001b[1;33m,\u001b[0m \u001b[0mconvert\u001b[0m\u001b[1;33m=\u001b[0m\u001b[0mconvert_dtype\u001b[0m\u001b[1;33m)\u001b[0m\u001b[1;33m\u001b[0m\u001b[1;33m\u001b[0m\u001b[0m\n\u001b[0m\u001b[0;32m   3849\u001b[0m \u001b[1;33m\u001b[0m\u001b[0m\n\u001b[0;32m   3850\u001b[0m         \u001b[1;32mif\u001b[0m \u001b[0mlen\u001b[0m\u001b[1;33m(\u001b[0m\u001b[0mmapped\u001b[0m\u001b[1;33m)\u001b[0m \u001b[1;32mand\u001b[0m \u001b[0misinstance\u001b[0m\u001b[1;33m(\u001b[0m\u001b[0mmapped\u001b[0m\u001b[1;33m[\u001b[0m\u001b[1;36m0\u001b[0m\u001b[1;33m]\u001b[0m\u001b[1;33m,\u001b[0m \u001b[0mSeries\u001b[0m\u001b[1;33m)\u001b[0m\u001b[1;33m:\u001b[0m\u001b[1;33m\u001b[0m\u001b[1;33m\u001b[0m\u001b[0m\n",
      "\u001b[1;32mpandas\\_libs\\lib.pyx\u001b[0m in \u001b[0;36mpandas._libs.lib.map_infer\u001b[1;34m()\u001b[0m\n",
      "\u001b[1;32m<ipython-input-6-00b2ea443af5>\u001b[0m in \u001b[0;36m<lambda>\u001b[1;34m(x)\u001b[0m\n\u001b[0;32m     39\u001b[0m \u001b[0mfantasyScoreAvg\u001b[0m \u001b[1;33m=\u001b[0m \u001b[0mfantasyScoreAvg\u001b[0m\u001b[1;33m.\u001b[0m\u001b[0mjoin\u001b[0m\u001b[1;33m(\u001b[0m\u001b[0mfantasyScore\u001b[0m\u001b[1;33m)\u001b[0m\u001b[1;33m\u001b[0m\u001b[1;33m\u001b[0m\u001b[0m\n\u001b[0;32m     40\u001b[0m fantasyScoreAvg[\"Player\"] = fantasyScoreAvg[\"Player\"].apply(\n\u001b[1;32m---> 41\u001b[1;33m     \u001b[1;32mlambda\u001b[0m \u001b[0mx\u001b[0m\u001b[1;33m:\u001b[0m \u001b[0munidecode\u001b[0m\u001b[1;33m.\u001b[0m\u001b[0munidecode\u001b[0m\u001b[1;33m(\u001b[0m\u001b[0mx\u001b[0m\u001b[1;33m)\u001b[0m\u001b[1;33m\u001b[0m\u001b[1;33m\u001b[0m\u001b[0m\n\u001b[0m\u001b[0;32m     42\u001b[0m )\n\u001b[0;32m     43\u001b[0m \u001b[0mqg_widget\u001b[0m \u001b[1;33m=\u001b[0m \u001b[0mqg\u001b[0m\u001b[1;33m.\u001b[0m\u001b[0mshow_grid\u001b[0m\u001b[1;33m(\u001b[0m\u001b[0mfantasyScoreAvg\u001b[0m\u001b[1;33m,\u001b[0m \u001b[0mshow_toolbar\u001b[0m\u001b[1;33m=\u001b[0m\u001b[1;32mTrue\u001b[0m\u001b[1;33m)\u001b[0m\u001b[1;33m\u001b[0m\u001b[1;33m\u001b[0m\u001b[0m\n",
      "\u001b[1;32mc:\\users\\asus\\appdata\\local\\programs\\python\\python37-32\\lib\\site-packages\\unidecode\\__init__.py\u001b[0m in \u001b[0;36munidecode_expect_ascii\u001b[1;34m(string)\u001b[0m\n\u001b[0;32m     46\u001b[0m     \u001b[0m_warn_if_not_unicode\u001b[0m\u001b[1;33m(\u001b[0m\u001b[0mstring\u001b[0m\u001b[1;33m)\u001b[0m\u001b[1;33m\u001b[0m\u001b[1;33m\u001b[0m\u001b[0m\n\u001b[0;32m     47\u001b[0m     \u001b[1;32mtry\u001b[0m\u001b[1;33m:\u001b[0m\u001b[1;33m\u001b[0m\u001b[1;33m\u001b[0m\u001b[0m\n\u001b[1;32m---> 48\u001b[1;33m         \u001b[0mbytestring\u001b[0m \u001b[1;33m=\u001b[0m \u001b[0mstring\u001b[0m\u001b[1;33m.\u001b[0m\u001b[0mencode\u001b[0m\u001b[1;33m(\u001b[0m\u001b[1;34m'ASCII'\u001b[0m\u001b[1;33m)\u001b[0m\u001b[1;33m\u001b[0m\u001b[1;33m\u001b[0m\u001b[0m\n\u001b[0m\u001b[0;32m     49\u001b[0m     \u001b[1;32mexcept\u001b[0m \u001b[0mUnicodeEncodeError\u001b[0m\u001b[1;33m:\u001b[0m\u001b[1;33m\u001b[0m\u001b[1;33m\u001b[0m\u001b[0m\n\u001b[0;32m     50\u001b[0m         \u001b[1;32mreturn\u001b[0m \u001b[0m_unidecode\u001b[0m\u001b[1;33m(\u001b[0m\u001b[0mstring\u001b[0m\u001b[1;33m)\u001b[0m\u001b[1;33m\u001b[0m\u001b[1;33m\u001b[0m\u001b[0m\n",
      "\u001b[1;31mAttributeError\u001b[0m: 'float' object has no attribute 'encode'"
     ]
    }
   ],
   "source": [
    "fantasyScoreAvg = pd.DataFrame(\n",
    "    bballRef, columns=[\"Player\", \"Tm\", \"Pos\", \"G\", \"GS\", \"MP\"]\n",
    ")\n",
    "fantasyScore = pd.DataFrame()\n",
    "\n",
    "# Stats to Fantasy Value Conversion\n",
    "fgm = 0.5\n",
    "fga = -0.5\n",
    "ftm = 0.25\n",
    "fta = -0.25\n",
    "oreb = 1.25\n",
    "dreb = 1\n",
    "ast = 1.5\n",
    "stl = 2.75\n",
    "blk = 2.75\n",
    "to = -1\n",
    "tf = -1\n",
    "pts = 1\n",
    "\n",
    "\n",
    "fantasyScore[\"FG\"] = bballRef[\"FG\"] * fgm\n",
    "fantasyScore[\"FGA\"] = bballRef[\"FGA\"] * fga\n",
    "fantasyScore[\"FTM\"] = bballRef[\"FT\"] * ftm\n",
    "fantasyScore[\"FTA\"] = bballRef[\"FTA\"] * fta\n",
    "fantasyScore[\"OREB\"] = bballRef[\"ORB\"] * oreb\n",
    "fantasyScore[\"DREB\"] = bballRef[\"DRB\"] * dreb\n",
    "fantasyScore[\"AST\"] = bballRef[\"AST\"] * ast\n",
    "fantasyScore[\"STL\"] = bballRef[\"STL\"] * stl\n",
    "fantasyScore[\"BLK\"] = bballRef[\"BLK\"] * blk\n",
    "fantasyScore[\"TO\"] = bballRef[\"TOV\"] * to\n",
    "fantasyScore[\"PTS\"] = bballRef[\"PTS\"] * pts\n",
    "\n",
    "fantasyScore[\"Avg. Total\"] = fantasyScore.sum(axis=1)\n",
    "fantasyScore[\"Total\"] = fantasyScore[\"Avg. Total\"] * bballRef[\"G\"]\n",
    "\n",
    "# qg_widget = qg.show_grid(fantasyScore, show_toolbar=True)\n",
    "# qg_widget\n",
    "\n",
    "fantasyScoreAvg = fantasyScoreAvg.join(fantasyScore)\n",
    "fantasyScoreAvg[\"Player\"] = fantasyScoreAvg[\"Player\"].apply(\n",
    "    lambda x: unidecode.unidecode(x)\n",
    ")\n",
    "qg_widget = qg.show_grid(fantasyScoreAvg, show_toolbar=True)\n",
    "qg_widget"
   ]
  },
  {
   "cell_type": "code",
   "execution_count": null,
   "metadata": {},
   "outputs": [],
   "source": []
  }
 ],
 "metadata": {
  "kernelspec": {
   "display_name": "Python 3",
   "language": "python",
   "name": "python3"
  },
  "language_info": {
   "codemirror_mode": {
    "name": "ipython",
    "version": 3
   },
   "file_extension": ".py",
   "mimetype": "text/x-python",
   "name": "python",
   "nbconvert_exporter": "python",
   "pygments_lexer": "ipython3",
   "version": "3.7.3"
  }
 },
 "nbformat": 4,
 "nbformat_minor": 4
}
